{
 "cells": [
  {
   "cell_type": "code",
   "execution_count": 1,
   "id": "7753dcf0",
   "metadata": {},
   "outputs": [],
   "source": [
    "def zscore_normalize_features(X):\n",
    "    \"\"\"\n",
    "    computes X, zscore normalized by column\n",
    "    \n",
    "    Args:\n",
    "        X (ndarray (m,n))      : input data, m examples, n features\n",
    "        \n",
    "    Returns:\n",
    "        X_norm (ndarray (m,n)) : input normalized by column\n",
    "        mu (ndarray (n,))      : mean of each feature\n",
    "        sigma (ndarray (n,))   : standard deviation of each feature\n",
    "    \"\"\"\n",
    "    \n",
    "    # find the mean of each column/feature\n",
    "    mu = np.mean(X, axis=0)\n",
    "    \n",
    "    # find the standard deviation of each column/feature\n",
    "    sigma = np.std(X, axis=0)\n",
    "    \n",
    "    # element-wise, subtract mu for that column from each example, divide by std for that column\n",
    "    X_norm = (X - mu) / sigma\n",
    "    \n",
    "    return (X_norm, mu, sigma)\n",
    "    "
   ]
  }
 ],
 "metadata": {
  "kernelspec": {
   "display_name": "Python 3 (ipykernel)",
   "language": "python",
   "name": "python3"
  },
  "language_info": {
   "codemirror_mode": {
    "name": "ipython",
    "version": 3
   },
   "file_extension": ".py",
   "mimetype": "text/x-python",
   "name": "python",
   "nbconvert_exporter": "python",
   "pygments_lexer": "ipython3",
   "version": "3.9.13"
  }
 },
 "nbformat": 4,
 "nbformat_minor": 5
}
