{
 "cells": [
  {
   "cell_type": "markdown",
   "id": "7b3edb4e",
   "metadata": {},
   "source": [
    "### Cost Function\n",
    "\n",
    "Cost measures how well our model is predicting the target price of the house. This function simply calculates the cost of using particular parameters for w and b on a training set. "
   ]
  },
  {
   "cell_type": "code",
   "execution_count": 21,
   "id": "93fadb7a",
   "metadata": {},
   "outputs": [],
   "source": [
    "import numpy as np"
   ]
  },
  {
   "cell_type": "code",
   "execution_count": 22,
   "id": "09d112e6",
   "metadata": {},
   "outputs": [],
   "source": [
    "x_train = np.array([1.0, 2.0])      # size in 1000 square feet\n",
    "y_train = np.array([300.0, 500.0])  # price in 1000s of dollars"
   ]
  },
  {
   "cell_type": "code",
   "execution_count": 23,
   "id": "08290bd5",
   "metadata": {},
   "outputs": [],
   "source": [
    "def compute_cost(x, y, w, b):\n",
    "    \"\"\"\n",
    "    Compute the cost function for linear regression.\n",
    "    \n",
    "    Args:\n",
    "        x (ndarray (m,)): Data, m examples\n",
    "        y (ndarray (m,)): target values\n",
    "        w,b, (scalar)   : model parameters\n",
    "        \n",
    "    Returns\n",
    "        total_cost (float): The cost of using w,b as the parameters for linear regression \n",
    "        to fit the data points in x and y\n",
    "    \"\"\"\n",
    "    \n",
    "    # number of training examples\n",
    "    m = x.shape[0]\n",
    "    \n",
    "    cost_sum = 0\n",
    "    for i in range(m):\n",
    "        f_wb = w * x[i] + b\n",
    "        cost = (f_wb - y[i]) ** 2\n",
    "        cost_sum = cost_sum + cost\n",
    "    total_cost = (1 / (2 * m)) * cost_sum\n",
    "    \n",
    "    return total_cost"
   ]
  },
  {
   "cell_type": "code",
   "execution_count": 24,
   "id": "aa4a96f0",
   "metadata": {},
   "outputs": [],
   "source": [
    "x_train = np.array([1.0, 1.7, 2.0, 2.5, 3.0, 3.2])\n",
    "y_train = np.array([250, 300, 480, 430, 630, 730,])"
   ]
  },
  {
   "cell_type": "code",
   "execution_count": 25,
   "id": "dbbc5a4d",
   "metadata": {
    "scrolled": true
   },
   "outputs": [
    {
     "data": {
      "text/plain": [
       "1736.2683333333327"
      ]
     },
     "execution_count": 25,
     "metadata": {},
     "output_type": "execute_result"
    }
   ],
   "source": [
    "compute_cost(x_train, y_train, 209, 2.4)"
   ]
  }
 ],
 "metadata": {
  "kernelspec": {
   "display_name": "Python 3 (ipykernel)",
   "language": "python",
   "name": "python3"
  },
  "language_info": {
   "codemirror_mode": {
    "name": "ipython",
    "version": 3
   },
   "file_extension": ".py",
   "mimetype": "text/x-python",
   "name": "python",
   "nbconvert_exporter": "python",
   "pygments_lexer": "ipython3",
   "version": "3.9.13"
  }
 },
 "nbformat": 4,
 "nbformat_minor": 5
}
